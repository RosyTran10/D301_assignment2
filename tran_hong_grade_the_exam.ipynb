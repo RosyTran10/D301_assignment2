{
 "cells": [
  {
   "cell_type": "code",
   "execution_count": 2,
   "id": "a29c5957",
   "metadata": {
    "scrolled": true
   },
   "outputs": [],
   "source": [
    "# read data file\n",
    "import pandas as pd\n",
    "class1 = pd.read_csv('https://drive.google.com/uc?export=download&id=1As-p6PnJFY6gvvyRMqH5lLEv1DzUR47R', sep = \" \", header=None)\n",
    "class2 = pd.read_csv('https://drive.google.com/uc?export=download&id=18TDdhQvkMvECCbdBbaCYAQHknHCw9Srw', sep = \" \", header=None)\n",
    "class3 = pd.read_csv('https://drive.google.com/uc?export=download&id=1uaULHWPUHJCIqjMI3_8V2mFqwmcAFe8g', sep = \" \", header=None)\n",
    "class4 = pd.read_csv('https://drive.google.com/uc?export=download&id=1AzA8OGQQQD6rBnDW97xF5F_50Hl1-9ze', sep = \" \", header=None)\n",
    "class5 = pd.read_csv('https://drive.google.com/uc?export=download&id=192lcfvbwdCLeyKUMFSebFIN_F8q45LGx', sep = \" \", header=None)\n",
    "class6 = pd.read_csv('https://drive.google.com/uc?export=download&id=1NdR4432-NPcdkQJ4kq5_HBS8JJQH7sGW', sep = \" \", header=None)\n",
    "class7 = pd.read_csv('https://drive.google.com/uc?export=download&id=1hQVk49A8Xv_60SKk1-2YD7JOTSkXskjY', sep = \" \", header=None)\n",
    "class8 = pd.read_csv('https://drive.google.com/uc?export=download&id=1TfCgkYvnSkJg12ixOiei_f8QJ9rqLCvP', sep = \" \", header=None)"
   ]
  },
  {
   "cell_type": "code",
   "execution_count": 3,
   "id": "9fe1010f",
   "metadata": {},
   "outputs": [
    {
     "name": "stdout",
     "output_type": "stream",
     "text": [
      "Enter the class number (i.e.1,2,3,...): class2\n",
      "Successfully opened class 2 .txt\n"
     ]
    }
   ],
   "source": [
    "# open the requested file\n",
    "fileset = [class1, class2, class3, class4, class5, class6, class7, class8]\n",
    "try:\n",
    "    filename = int(input('Enter the class number (i.e.1,2,3,...): class'))\n",
    "    if 1 <= filename <= 8:\n",
    "        print('Successfully opened class',filename,'.txt')\n",
    "        yourfile = fileset[filename-1]\n",
    "    else:\n",
    "        print('Your class number is exceed the data.') # in case of over 8\n",
    "except:\n",
    "    print('It is not a class number.') # in case of not integers"
   ]
  },
  {
   "cell_type": "code",
   "execution_count": 4,
   "id": "8bb81c83",
   "metadata": {},
   "outputs": [],
   "source": [
    "# create numpy of your file\n",
    "import numpy as np\n",
    "A = np.array(yourfile)\n",
    "row, column = A.shape\n",
    "\n",
    "# create pandas of your file\n",
    "f = []\n",
    "i = 0\n",
    "while i < row:\n",
    "    a = A[i,0].split(',') # split items in a list\n",
    "    i = i + 1\n",
    "    f.append(a)\n",
    "df = pd.DataFrame(f, dtype=object) # pandas 1"
   ]
  },
  {
   "cell_type": "code",
   "execution_count": 5,
   "id": "fefa7678",
   "metadata": {},
   "outputs": [
    {
     "name": "stdout",
     "output_type": "stream",
     "text": [
      "**** ANALYZING ****\n",
      "Invalid line of data: does not contain exactly 26 values: N00000023,,A,D,D,C,B,D,A,C,C,,C,,B,A,C,B,D,A,C,A,A\n",
      "Invalid line of data: N# is invalid N0000002,B,A,D,D,C,B,D,A,C,D,D,D,A,,A,C,D,,A,C,A,A,B,D,D\n",
      "Invalid line of data: N# is invalid NA0000027,B,A,D,D,,B,,A,C,B,D,B,A,,A,C,B,D,A,,A,A,B,D,D\n",
      "Invalid line of data: does not contain exactly 26 values: N00000035,B,A,D,D,B,B,,A,C,,D,B,A,B,A,A,B,D,A,C,A,C,B,D,D,A,A\n",
      "**** REPORT ****\n",
      "Total valid lines of data:  21\n",
      "Total invalid lines of data:  4\n"
     ]
    }
   ],
   "source": [
    "# check data format\n",
    "import re\n",
    "Nid = re.compile('N\\d\\d\\d\\d\\d\\d\\d\\d') # use regex to check invalid student ID\n",
    "\n",
    "print('**** ANALYZING ****')\n",
    "check = []\n",
    "i = 0\n",
    "while i < row:\n",
    "    a = A[i,0].split(',')\n",
    "    n = df.iloc[i,0] # extract student ID\n",
    "    i = i + 1\n",
    "    if len(a) != 26: # more or less than 25 answers\n",
    "        check.append('wrong')\n",
    "        print('Invalid line of data: does not contain exactly 26 values:', A[i-1,0])        \n",
    "    if not Nid.match(n): # invalid student ID\n",
    "        check.append('wrong') \n",
    "        print('Invalid line of data: N# is invalid', A[i-1,0])  \n",
    "if len(check) == 0: # in case of no invalid data\n",
    "    print('No errors found!')\n",
    "\n",
    "print('**** REPORT ****')\n",
    "print('Total valid lines of data: ', row - len(check))\n",
    "print('Total invalid lines of data: ', len(check))"
   ]
  },
  {
   "cell_type": "code",
   "execution_count": 6,
   "id": "6aba2c56",
   "metadata": {},
   "outputs": [],
   "source": [
    "# count point of whole class, except for invalid lines\n",
    "answer_key = ['B','A','D','D','C','B','D','A','C','C','D','B','A',\n",
    "              'B','A','C','B','D','A','C','A','A','B','D','D']\n",
    "point = []\n",
    "detail = []\n",
    "i = 0\n",
    "while i < row:\n",
    "    a = A[i,0].split(',')\n",
    "    n = df.iloc[i,0]\n",
    "    j = 0\n",
    "    B = []\n",
    "    if (len(a) == 26 and Nid.match(n)):\n",
    "        while j < len(answer_key):\n",
    "            if answer_key[j] != a[j+1]:\n",
    "                if a[j+1] == '':\n",
    "                    B.append(0) # skip answer 0 point\n",
    "                else:\n",
    "                    B.append(-1) # wrong anser -1 point\n",
    "            else:\n",
    "                B.append(4) # correct answer +4 point\n",
    "            j = j + 1\n",
    "            b = sum(B)\n",
    "    else:\n",
    "        b = np.nan # return invalid lines as NaN value\n",
    "    point.append(b) # list of total point per student\n",
    "    detail.append(B) # list of point per answer\n",
    "    i = i + 1"
   ]
  },
  {
   "cell_type": "code",
   "execution_count": 7,
   "id": "195d88db",
   "metadata": {
    "scrolled": true
   },
   "outputs": [
    {
     "name": "stdout",
     "output_type": "stream",
     "text": [
      "Total student of high scores:  7\n",
      "Mean (average) score:  78.0\n",
      "Highest score:  100.0\n",
      "Lowest score:  66.0\n",
      "Range of scores:  34.0\n",
      "Median score:  76.0\n",
      "Question that most people skip (Question No. - People No. - % skip):  [22]  -  6  -  0.24\n",
      "Question that most people answer incorrectly (Question No. - People No. - % incorrect):  [18]  -  5  -  0.2\n"
     ]
    }
   ],
   "source": [
    "# print report\n",
    "df1 = pd.DataFrame(point, dtype=float) # pandas 2\n",
    "df1.columns = ['Point']\n",
    "print('Total student of high scores: ', sum(df1.Point > 80))\n",
    "print('Mean (average) score: ', round(df1['Point'].mean(),3))\n",
    "print('Highest score: ', df1['Point'].max())\n",
    "print('Lowest score: ',df1['Point'].min())\n",
    "print('Range of scores: ', df1['Point'].max() - df1['Point'].min())\n",
    "print('Median score: ', df1['Point'].median())\n",
    "\n",
    "# count skipped answers\n",
    "df2 = pd.DataFrame(detail, dtype=float) # pandas 3\n",
    "skip = [0]\n",
    "i = 0\n",
    "while i < 25:\n",
    "    skip.append(sum(df2[i] == 0))\n",
    "    i = i + 1\n",
    "# count incorrect answers\n",
    "incorrect = [0]\n",
    "i = 0\n",
    "while i < 25:\n",
    "    incorrect.append(sum(df2[i] == -1))\n",
    "    i = i + 1\n",
    "# print report\n",
    "indices = [i for i, x in enumerate(skip) if x == max(skip)] # extract repeat skip question\n",
    "print('Question that most people skip (Question No. - People No. - % skip): ',\n",
    "      indices, ' - ', max(skip), ' - ', round(max(skip)/row,3))\n",
    "indices = [i for i, x in enumerate(incorrect) if x == max(incorrect)] # extract repeat incorrect question\n",
    "print('Question that most people answer incorrectly (Question No. - People No. - % incorrect): ',\n",
    "      indices, ' - ', max(incorrect), ' - ', round(max(incorrect)/row,3))"
   ]
  },
  {
   "cell_type": "code",
   "execution_count": 8,
   "id": "58e34bd7",
   "metadata": {},
   "outputs": [],
   "source": [
    "# create report files\n",
    "class1_grades = 'class1_grades.txt'\n",
    "class2_grades = 'class2_grades.txt'\n",
    "class3_grades = 'class3_grades.txt'\n",
    "class4_grades = 'class4_grades.txt'\n",
    "class5_grades = 'class5_grades.txt'\n",
    "class6_grades = 'class6_grades.txt'\n",
    "class7_grades = 'class7_grades.txt'\n",
    "class8_grades = 'class8_grades.txt'\n",
    "reportset = [class1_grades,class2_grades,class3_grades,class4_grades,\n",
    "             class5_grades,class6_grades,class7_grades,class8_grades]\n",
    "yourreport = reportset[filename-1]"
   ]
  },
  {
   "cell_type": "code",
   "execution_count": 9,
   "id": "e6620c9a",
   "metadata": {
    "scrolled": true
   },
   "outputs": [],
   "source": [
    "# extract the list of grade\n",
    "i = 0\n",
    "result = []\n",
    "while i < row:\n",
    "    a = A[i,0].split(',')\n",
    "    n = df.iloc[i,0]\n",
    "    i = i + 1\n",
    "    if (len(a) == 26 and Nid.match(n)):    \n",
    "            c = ''.join([n, ',', str(point[i-1]),'\\n'])\n",
    "            result.append(c)\n",
    "\n",
    "# write the list to report file\n",
    "with open(yourreport, 'w') as report:\n",
    "    for line in result:\n",
    "        report.write(line)"
   ]
  }
 ],
 "metadata": {
  "kernelspec": {
   "display_name": "Python 3 (ipykernel)",
   "language": "python",
   "name": "python3"
  },
  "language_info": {
   "codemirror_mode": {
    "name": "ipython",
    "version": 3
   },
   "file_extension": ".py",
   "mimetype": "text/x-python",
   "name": "python",
   "nbconvert_exporter": "python",
   "pygments_lexer": "ipython3",
   "version": "3.9.7"
  }
 },
 "nbformat": 4,
 "nbformat_minor": 5
}
